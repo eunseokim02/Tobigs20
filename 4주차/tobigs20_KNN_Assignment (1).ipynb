{
 "cells": [
  {
   "cell_type": "markdown",
   "metadata": {
    "id": "_PTZ7GaPe4PF"
   },
   "source": [
    "# 20기 KNN 정규세션 과제"
   ]
  },
  {
   "cell_type": "markdown",
   "metadata": {
    "id": "k_IkS8Ybe4PI"
   },
   "source": [
    "**데이터:** [blackfriday | Kaggle](https://www.kaggle.com/llopesolivei/blackfriday)"
   ]
  },
  {
   "cell_type": "markdown",
   "metadata": {
    "id": "ZvUdeo2he4PI"
   },
   "source": [
    "---"
   ]
  },
  {
   "cell_type": "markdown",
   "metadata": {
    "id": "lTlQgiSie4PI"
   },
   "source": [
    "## 0. 데이터 불러오기"
   ]
  },
  {
   "cell_type": "code",
   "execution_count": 1,
   "metadata": {
    "id": "eNTRK8Ete4PJ",
    "outputId": "de247747-4645-49a6-c5d2-38cc1a381d42"
   },
   "outputs": [
    {
     "data": {
      "text/html": [
       "<div>\n",
       "<style scoped>\n",
       "    .dataframe tbody tr th:only-of-type {\n",
       "        vertical-align: middle;\n",
       "    }\n",
       "\n",
       "    .dataframe tbody tr th {\n",
       "        vertical-align: top;\n",
       "    }\n",
       "\n",
       "    .dataframe thead th {\n",
       "        text-align: right;\n",
       "    }\n",
       "</style>\n",
       "<table border=\"1\" class=\"dataframe\">\n",
       "  <thead>\n",
       "    <tr style=\"text-align: right;\">\n",
       "      <th></th>\n",
       "      <th>User_ID</th>\n",
       "      <th>Product_ID</th>\n",
       "      <th>Gender</th>\n",
       "      <th>Age</th>\n",
       "      <th>Occupation</th>\n",
       "      <th>City_Category</th>\n",
       "      <th>Stay_In_Current_City_Years</th>\n",
       "      <th>Marital_Status</th>\n",
       "      <th>Product_Category_1</th>\n",
       "      <th>Product_Category_2</th>\n",
       "      <th>Product_Category_3</th>\n",
       "      <th>Purchase</th>\n",
       "    </tr>\n",
       "  </thead>\n",
       "  <tbody>\n",
       "    <tr>\n",
       "      <th>0</th>\n",
       "      <td>1001088</td>\n",
       "      <td>P00046042</td>\n",
       "      <td>F</td>\n",
       "      <td>0-17</td>\n",
       "      <td>10</td>\n",
       "      <td>A</td>\n",
       "      <td>3</td>\n",
       "      <td>0</td>\n",
       "      <td>5</td>\n",
       "      <td>17.0</td>\n",
       "      <td>NaN</td>\n",
       "      <td>2010</td>\n",
       "    </tr>\n",
       "    <tr>\n",
       "      <th>1</th>\n",
       "      <td>1004493</td>\n",
       "      <td>P00347742</td>\n",
       "      <td>F</td>\n",
       "      <td>0-17</td>\n",
       "      <td>10</td>\n",
       "      <td>A</td>\n",
       "      <td>1</td>\n",
       "      <td>0</td>\n",
       "      <td>7</td>\n",
       "      <td>NaN</td>\n",
       "      <td>NaN</td>\n",
       "      <td>4483</td>\n",
       "    </tr>\n",
       "    <tr>\n",
       "      <th>2</th>\n",
       "      <td>1005302</td>\n",
       "      <td>P00048942</td>\n",
       "      <td>F</td>\n",
       "      <td>0-17</td>\n",
       "      <td>10</td>\n",
       "      <td>A</td>\n",
       "      <td>1</td>\n",
       "      <td>0</td>\n",
       "      <td>1</td>\n",
       "      <td>4.0</td>\n",
       "      <td>NaN</td>\n",
       "      <td>7696</td>\n",
       "    </tr>\n",
       "    <tr>\n",
       "      <th>3</th>\n",
       "      <td>1001348</td>\n",
       "      <td>P00145242</td>\n",
       "      <td>F</td>\n",
       "      <td>0-17</td>\n",
       "      <td>10</td>\n",
       "      <td>A</td>\n",
       "      <td>3</td>\n",
       "      <td>0</td>\n",
       "      <td>2</td>\n",
       "      <td>4.0</td>\n",
       "      <td>NaN</td>\n",
       "      <td>16429</td>\n",
       "    </tr>\n",
       "    <tr>\n",
       "      <th>4</th>\n",
       "      <td>1001348</td>\n",
       "      <td>P00106742</td>\n",
       "      <td>F</td>\n",
       "      <td>0-17</td>\n",
       "      <td>10</td>\n",
       "      <td>A</td>\n",
       "      <td>3</td>\n",
       "      <td>0</td>\n",
       "      <td>3</td>\n",
       "      <td>5.0</td>\n",
       "      <td>NaN</td>\n",
       "      <td>5780</td>\n",
       "    </tr>\n",
       "  </tbody>\n",
       "</table>\n",
       "</div>"
      ],
      "text/plain": [
       "   User_ID Product_ID Gender   Age  Occupation City_Category  \\\n",
       "0  1001088  P00046042      F  0-17          10             A   \n",
       "1  1004493  P00347742      F  0-17          10             A   \n",
       "2  1005302  P00048942      F  0-17          10             A   \n",
       "3  1001348  P00145242      F  0-17          10             A   \n",
       "4  1001348  P00106742      F  0-17          10             A   \n",
       "\n",
       "  Stay_In_Current_City_Years  Marital_Status  Product_Category_1  \\\n",
       "0                          3               0                   5   \n",
       "1                          1               0                   7   \n",
       "2                          1               0                   1   \n",
       "3                          3               0                   2   \n",
       "4                          3               0                   3   \n",
       "\n",
       "   Product_Category_2  Product_Category_3  Purchase  \n",
       "0                17.0                 NaN      2010  \n",
       "1                 NaN                 NaN      4483  \n",
       "2                 4.0                 NaN      7696  \n",
       "3                 4.0                 NaN     16429  \n",
       "4                 5.0                 NaN      5780  "
      ]
     },
     "execution_count": 1,
     "metadata": {},
     "output_type": "execute_result"
    }
   ],
   "source": [
    "import pandas as pd\n",
    "df = pd.read_csv(\"blackfriday.csv\", index_col = 0)\n",
    "df.head()"
   ]
  },
  {
   "cell_type": "markdown",
   "metadata": {},
   "source": [
    "## 1. Preprocssing / EDA"
   ]
  },
  {
   "cell_type": "code",
   "execution_count": 3,
   "metadata": {},
   "outputs": [
    {
     "name": "stdout",
     "output_type": "stream",
     "text": [
      "<class 'pandas.core.frame.DataFrame'>\n",
      "Int64Index: 4998 entries, 0 to 4997\n",
      "Data columns (total 12 columns):\n",
      " #   Column                      Non-Null Count  Dtype  \n",
      "---  ------                      --------------  -----  \n",
      " 0   User_ID                     4998 non-null   int64  \n",
      " 1   Product_ID                  4998 non-null   object \n",
      " 2   Gender                      4998 non-null   object \n",
      " 3   Age                         4998 non-null   object \n",
      " 4   Occupation                  4998 non-null   int64  \n",
      " 5   City_Category               4998 non-null   object \n",
      " 6   Stay_In_Current_City_Years  4998 non-null   object \n",
      " 7   Marital_Status              4998 non-null   int64  \n",
      " 8   Product_Category_1          4998 non-null   int64  \n",
      " 9   Product_Category_2          3465 non-null   float64\n",
      " 10  Product_Category_3          1544 non-null   float64\n",
      " 11  Purchase                    4998 non-null   int64  \n",
      "dtypes: float64(2), int64(5), object(5)\n",
      "memory usage: 507.6+ KB\n"
     ]
    }
   ],
   "source": [
    "df.info()\n",
    "# null값은 없음. "
   ]
  },
  {
   "cell_type": "code",
   "execution_count": 4,
   "metadata": {
    "scrolled": true
   },
   "outputs": [
    {
     "data": {
      "text/html": [
       "<div>\n",
       "<style scoped>\n",
       "    .dataframe tbody tr th:only-of-type {\n",
       "        vertical-align: middle;\n",
       "    }\n",
       "\n",
       "    .dataframe tbody tr th {\n",
       "        vertical-align: top;\n",
       "    }\n",
       "\n",
       "    .dataframe thead th {\n",
       "        text-align: right;\n",
       "    }\n",
       "</style>\n",
       "<table border=\"1\" class=\"dataframe\">\n",
       "  <thead>\n",
       "    <tr style=\"text-align: right;\">\n",
       "      <th></th>\n",
       "      <th>User_ID</th>\n",
       "      <th>Occupation</th>\n",
       "      <th>Marital_Status</th>\n",
       "      <th>Product_Category_1</th>\n",
       "      <th>Product_Category_2</th>\n",
       "      <th>Product_Category_3</th>\n",
       "      <th>Purchase</th>\n",
       "    </tr>\n",
       "  </thead>\n",
       "  <tbody>\n",
       "    <tr>\n",
       "      <th>count</th>\n",
       "      <td>4.998000e+03</td>\n",
       "      <td>4998.000000</td>\n",
       "      <td>4998.000000</td>\n",
       "      <td>4998.000000</td>\n",
       "      <td>3465.000000</td>\n",
       "      <td>1544.000000</td>\n",
       "      <td>4998.000000</td>\n",
       "    </tr>\n",
       "    <tr>\n",
       "      <th>mean</th>\n",
       "      <td>1.003015e+06</td>\n",
       "      <td>8.036815</td>\n",
       "      <td>0.421369</td>\n",
       "      <td>5.320128</td>\n",
       "      <td>9.773737</td>\n",
       "      <td>12.766839</td>\n",
       "      <td>9234.655462</td>\n",
       "    </tr>\n",
       "    <tr>\n",
       "      <th>std</th>\n",
       "      <td>1.709910e+03</td>\n",
       "      <td>6.442697</td>\n",
       "      <td>0.493828</td>\n",
       "      <td>3.912281</td>\n",
       "      <td>5.101867</td>\n",
       "      <td>4.023591</td>\n",
       "      <td>4999.225081</td>\n",
       "    </tr>\n",
       "    <tr>\n",
       "      <th>min</th>\n",
       "      <td>1.000003e+06</td>\n",
       "      <td>0.000000</td>\n",
       "      <td>0.000000</td>\n",
       "      <td>1.000000</td>\n",
       "      <td>2.000000</td>\n",
       "      <td>3.000000</td>\n",
       "      <td>13.000000</td>\n",
       "    </tr>\n",
       "    <tr>\n",
       "      <th>25%</th>\n",
       "      <td>1.001560e+06</td>\n",
       "      <td>2.000000</td>\n",
       "      <td>0.000000</td>\n",
       "      <td>1.000000</td>\n",
       "      <td>5.000000</td>\n",
       "      <td>9.000000</td>\n",
       "      <td>5497.750000</td>\n",
       "    </tr>\n",
       "    <tr>\n",
       "      <th>50%</th>\n",
       "      <td>1.003040e+06</td>\n",
       "      <td>7.000000</td>\n",
       "      <td>0.000000</td>\n",
       "      <td>5.000000</td>\n",
       "      <td>9.000000</td>\n",
       "      <td>14.000000</td>\n",
       "      <td>8049.000000</td>\n",
       "    </tr>\n",
       "    <tr>\n",
       "      <th>75%</th>\n",
       "      <td>1.004417e+06</td>\n",
       "      <td>14.000000</td>\n",
       "      <td>1.000000</td>\n",
       "      <td>8.000000</td>\n",
       "      <td>15.000000</td>\n",
       "      <td>16.000000</td>\n",
       "      <td>12039.000000</td>\n",
       "    </tr>\n",
       "    <tr>\n",
       "      <th>max</th>\n",
       "      <td>1.006037e+06</td>\n",
       "      <td>20.000000</td>\n",
       "      <td>1.000000</td>\n",
       "      <td>20.000000</td>\n",
       "      <td>18.000000</td>\n",
       "      <td>18.000000</td>\n",
       "      <td>23913.000000</td>\n",
       "    </tr>\n",
       "  </tbody>\n",
       "</table>\n",
       "</div>"
      ],
      "text/plain": [
       "            User_ID   Occupation  Marital_Status  Product_Category_1  \\\n",
       "count  4.998000e+03  4998.000000     4998.000000         4998.000000   \n",
       "mean   1.003015e+06     8.036815        0.421369            5.320128   \n",
       "std    1.709910e+03     6.442697        0.493828            3.912281   \n",
       "min    1.000003e+06     0.000000        0.000000            1.000000   \n",
       "25%    1.001560e+06     2.000000        0.000000            1.000000   \n",
       "50%    1.003040e+06     7.000000        0.000000            5.000000   \n",
       "75%    1.004417e+06    14.000000        1.000000            8.000000   \n",
       "max    1.006037e+06    20.000000        1.000000           20.000000   \n",
       "\n",
       "       Product_Category_2  Product_Category_3      Purchase  \n",
       "count         3465.000000         1544.000000   4998.000000  \n",
       "mean             9.773737           12.766839   9234.655462  \n",
       "std              5.101867            4.023591   4999.225081  \n",
       "min              2.000000            3.000000     13.000000  \n",
       "25%              5.000000            9.000000   5497.750000  \n",
       "50%              9.000000           14.000000   8049.000000  \n",
       "75%             15.000000           16.000000  12039.000000  \n",
       "max             18.000000           18.000000  23913.000000  "
      ]
     },
     "execution_count": 4,
     "metadata": {},
     "output_type": "execute_result"
    }
   ],
   "source": [
    "df.describe()"
   ]
  },
  {
   "cell_type": "code",
   "execution_count": 5,
   "metadata": {},
   "outputs": [
    {
     "data": {
      "text/plain": [
       "User_ID                          0\n",
       "Product_ID                       0\n",
       "Gender                           0\n",
       "Age                              0\n",
       "Occupation                       0\n",
       "City_Category                    0\n",
       "Stay_In_Current_City_Years       0\n",
       "Marital_Status                   0\n",
       "Product_Category_1               0\n",
       "Product_Category_2            1533\n",
       "Product_Category_3            3454\n",
       "Purchase                         0\n",
       "dtype: int64"
      ]
     },
     "execution_count": 5,
     "metadata": {},
     "output_type": "execute_result"
    }
   ],
   "source": [
    "# 결측치 확인\n",
    "df.isnull().sum()"
   ]
  },
  {
   "cell_type": "code",
   "execution_count": 7,
   "metadata": {},
   "outputs": [],
   "source": [
    "import numpy as np\n",
    "import matplotlib.pyplot as plt\n",
    "import matplotlib as mpl\n",
    "import seaborn as sns"
   ]
  },
  {
   "cell_type": "code",
   "execution_count": 18,
   "metadata": {},
   "outputs": [],
   "source": [
    "# product_category_2 = 최빈값으로 대체\n",
    "a = df[\"Product_Category_2\"].mode()[0]\n",
    "df.Product_Category_2 = df.Product_Category_2.fillna(a)"
   ]
  },
  {
   "cell_type": "code",
   "execution_count": 10,
   "metadata": {},
   "outputs": [],
   "source": [
    "# product_category_3는 결측값이 전체 데이터 대비 많으므로 제거 \n",
    "df.drop(['Product_Category_3'], axis = 1, inplace = True)"
   ]
  },
  {
   "cell_type": "code",
   "execution_count": 11,
   "metadata": {},
   "outputs": [],
   "source": [
    "# 분석과 관련없는 id변수 삭제\n",
    "df.drop(['User_ID','Product_ID'], axis = 1, inplace = True)"
   ]
  },
  {
   "cell_type": "code",
   "execution_count": 22,
   "metadata": {},
   "outputs": [],
   "source": [
    "df = pd.get_dummies(df,drop_first = True)"
   ]
  },
  {
   "cell_type": "code",
   "execution_count": 23,
   "metadata": {
    "scrolled": true
   },
   "outputs": [
    {
     "name": "stdout",
     "output_type": "stream",
     "text": [
      "<class 'pandas.core.frame.DataFrame'>\n",
      "Int64Index: 4998 entries, 0 to 4997\n",
      "Data columns (total 18 columns):\n",
      " #   Column                         Non-Null Count  Dtype  \n",
      "---  ------                         --------------  -----  \n",
      " 0   Occupation                     4998 non-null   int64  \n",
      " 1   Marital_Status                 4998 non-null   int64  \n",
      " 2   Product_Category_1             4998 non-null   int64  \n",
      " 3   Product_Category_2             4998 non-null   float64\n",
      " 4   Purchase                       4998 non-null   int64  \n",
      " 5   Gender_M                       4998 non-null   uint8  \n",
      " 6   Age_18-25                      4998 non-null   uint8  \n",
      " 7   Age_26-35                      4998 non-null   uint8  \n",
      " 8   Age_36-45                      4998 non-null   uint8  \n",
      " 9   Age_46-50                      4998 non-null   uint8  \n",
      " 10  Age_51-55                      4998 non-null   uint8  \n",
      " 11  Age_55+                        4998 non-null   uint8  \n",
      " 12  City_Category_B                4998 non-null   uint8  \n",
      " 13  City_Category_C                4998 non-null   uint8  \n",
      " 14  Stay_In_Current_City_Years_1   4998 non-null   uint8  \n",
      " 15  Stay_In_Current_City_Years_2   4998 non-null   uint8  \n",
      " 16  Stay_In_Current_City_Years_3   4998 non-null   uint8  \n",
      " 17  Stay_In_Current_City_Years_4+  4998 non-null   uint8  \n",
      "dtypes: float64(1), int64(4), uint8(13)\n",
      "memory usage: 297.7 KB\n"
     ]
    }
   ],
   "source": [
    "df.info()"
   ]
  },
  {
   "cell_type": "code",
   "execution_count": 24,
   "metadata": {},
   "outputs": [],
   "source": [
    "from sklearn.model_selection import train_test_split\n",
    "\n",
    "X = df.drop(['Purchase'],axis = 1)\n",
    "y = df['Purchase']\n",
    "\n",
    "X_train,X_test,y_train,y_test = train_test_split(X,y,test_size = 0.2)"
   ]
  },
  {
   "cell_type": "code",
   "execution_count": 25,
   "metadata": {},
   "outputs": [],
   "source": [
    "# Feature Scaling\n",
    "from sklearn.preprocessing import StandardScaler\n",
    "scaler = StandardScaler()\n",
    "scaler.fit(X_train) \n",
    "\n",
    "X_train = scaler.transform(X_train)\n",
    "X_test = scaler.transform(X_test)"
   ]
  },
  {
   "cell_type": "markdown",
   "metadata": {},
   "source": [
    "## 2. KNN 구현 & 파라미터 튜닝"
   ]
  },
  {
   "cell_type": "code",
   "execution_count": 30,
   "metadata": {},
   "outputs": [],
   "source": [
    "# knn 구현 \n",
    "from sklearn.neighbors import KNeighborsRegressor\n",
    "regressor = KNeighborsRegressor(n_neighbors = 3, weights = \"distance\")\n",
    "regressor.fit(X_train , y_train)\n",
    "\n",
    "y_pred = regressor.predict(X_test)"
   ]
  },
  {
   "cell_type": "code",
   "execution_count": 31,
   "metadata": {},
   "outputs": [
    {
     "data": {
      "text/plain": [
       "5083.166403171491"
      ]
     },
     "execution_count": 31,
     "metadata": {},
     "output_type": "execute_result"
    }
   ],
   "source": [
    "# rmse사용\n",
    "from math import sqrt\n",
    "from sklearn.metrics import mean_squared_error \n",
    "\n",
    "sqrt(mean_squared_error(y_test,y_pred))"
   ]
  },
  {
   "cell_type": "code",
   "execution_count": 36,
   "metadata": {},
   "outputs": [
    {
     "name": "stdout",
     "output_type": "stream",
     "text": [
      "best RMSE : -4563.59\n",
      "best param :  {'metric': 'manhattan', 'n_neighbors': 17, 'weights': 'distance'}\n"
     ]
    }
   ],
   "source": [
    "# 파라미터 튜닝\n",
    "from sklearn.model_selection import GridSearchCV\n",
    "\n",
    "param = {\"n_neighbors\": [3, 5, 7, 9, 11, 13, 15, 17],\n",
    "            \"weights\":['uniform', 'distance'],\n",
    "            'metric' : ['euclidean', 'manhattan', 'minkowski']}\n",
    "\n",
    "gscv = GridSearchCV(estimator = regressor, param_grid=param_knn, \n",
    "                        scoring='neg_root_mean_squared_error', cv=3, n_jobs=-1)\n",
    "gscv.fit(X_train, y_train)\n",
    "\n",
    "# 가장 최적의 수치와 최적의 parameter확인\n",
    "print(\"best RMSE : {0: .2f}\".format(gscv.best_score_))\n",
    "print(\"best param : \",gscv.best_params_)"
   ]
  },
  {
   "cell_type": "markdown",
   "metadata": {},
   "source": [
    "## 3. Evaluation"
   ]
  },
  {
   "cell_type": "code",
   "execution_count": 37,
   "metadata": {},
   "outputs": [
    {
     "data": {
      "text/plain": [
       "4640.876303507092"
      ]
     },
     "execution_count": 37,
     "metadata": {},
     "output_type": "execute_result"
    }
   ],
   "source": [
    "# 최종\n",
    "regressor = KNeighborsRegressor(n_neighbors = 17, weights = \"distance\", metric=\"manhattan\")\n",
    "regressor.fit(X_train , y_train)\n",
    "\n",
    "y_pred = regressor.predict(X_test)\n",
    "sqrt(mean_squared_error(y_test,y_pred))"
   ]
  }
 ],
 "metadata": {
  "colab": {
   "provenance": []
  },
  "kernelspec": {
   "display_name": "Python 3 (ipykernel)",
   "language": "python",
   "name": "python3"
  },
  "language_info": {
   "codemirror_mode": {
    "name": "ipython",
    "version": 3
   },
   "file_extension": ".py",
   "mimetype": "text/x-python",
   "name": "python",
   "nbconvert_exporter": "python",
   "pygments_lexer": "ipython3",
   "version": "3.9.13"
  }
 },
 "nbformat": 4,
 "nbformat_minor": 1
}
